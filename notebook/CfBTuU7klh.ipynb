{
 "cells": [
  {
   "cell_type": "code",
   "execution_count": 0,
   "id": 0,
   "metadata": {},
   "outputs": [
    {
     "data": {
      "text/plain": [
       "491"
      ]
     },
     "execution_count": 1,
     "metadata": {},
     "output_type": "execute_result"
    }
   ],
   "source": [
    "import pandas as pd\n",
    "\n",
    "current_year = pd.Timestamp.now().year\n",
    "leap_years = [year for year in range(1, current_year) \n",
    "              if (year % 4 == 0 and year % 100 != 0) or (year % 400 == 0)]\n",
    "len(leap_years)"
   ]
  }
 ],
 "metadata": {
  "kernelspec": {
   "display_name": "Python 3 (ipykernel)",
   "language": "python",
   "name": "python3"
  },
  "language_info": {
   "codemirror_mode": {
    "name": "ipython",
    "version": 3
   },
   "file_extension": ".py",
   "mimetype": "text/x-python",
   "name": "python",
   "nbconvert_exporter": "python",
   "pygments_lexer": "ipython3",
   "version": "3.12.1"
  }
 },
 "nbformat": 4,
 "nbformat_minor": 5
}
